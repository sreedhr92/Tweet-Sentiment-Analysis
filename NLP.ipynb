{
 "cells": [
  {
   "cell_type": "code",
   "execution_count": null,
   "id": "departmental-venice",
   "metadata": {
    "id": "opposite-income"
   },
   "outputs": [],
   "source": []
  },
  {
   "cell_type": "code",
   "execution_count": 1,
   "id": "supposed-magnitude",
   "metadata": {
    "colab": {
     "base_uri": "https://localhost:8080/"
    },
    "id": "UnLt3zAq6KWT",
    "outputId": "6259f146-e646-4fdf-c553-479028d19072"
   },
   "outputs": [
    {
     "name": "stdout",
     "output_type": "stream",
     "text": [
      "Mounted at /gdrive\n"
     ]
    }
   ],
   "source": []
  },
  {
   "cell_type": "code",
   "execution_count": 2,
   "id": "modular-intermediate",
   "metadata": {
    "colab": {
     "base_uri": "https://localhost:8080/"
    },
    "id": "4pizZppZ6hPi",
    "outputId": "317c675d-3c72-4cbd-c188-5f4403f73ac6"
   },
   "outputs": [
    {
     "name": "stdout",
     "output_type": "stream",
     "text": [
      "Mounted at /content/drive\n"
     ]
    }
   ],
   "source": [
    "from google.colab import drive\n",
    "drive.mount('/content/drive')"
   ]
  },
  {
   "cell_type": "code",
   "execution_count": null,
   "id": "imposed-playing",
   "metadata": {
    "id": "LxAuMQEP6KWT"
   },
   "outputs": [],
   "source": []
  },
  {
   "cell_type": "code",
   "execution_count": 3,
   "id": "intense-entrepreneur",
   "metadata": {
    "id": "different-aircraft"
   },
   "outputs": [],
   "source": [
    "#Removing all the packages needed for this code\n",
    "import numpy as np\n",
    "import pandas as pd\n",
    "import nltk\n",
    "import tensorflow as tf\n",
    "import matplotlib.pyplot as plt\n",
    "import seaborn as sns\n",
    "import re\n",
    "import tensorflow as tf\n",
    "import keras\n",
    "from sklearn.preprocessing import LabelEncoder\n",
    "from nltk.corpus import stopwords\n",
    "from keras.utils import to_categorical\n",
    "from sklearn.feature_extraction.text import CountVectorizer\n",
    "from sklearn.metrics import classification_report,confusion_matrix,accuracy_score\n",
    "from sklearn.model_selection import train_test_split\n",
    "from keras.models import Sequential\n",
    "from keras.preprocessing import text, sequence\n",
    "from tensorflow.keras.preprocessing.text import Tokenizer\n",
    "from nltk.tokenize import word_tokenize,sent_tokenize\n",
    "from tensorflow.keras.preprocessing.sequence import pad_sequences"
   ]
  },
  {
   "cell_type": "code",
   "execution_count": 4,
   "id": "vanilla-michael",
   "metadata": {
    "id": "cubic-print"
   },
   "outputs": [],
   "source": [
    "# Reading the datasets\n",
    "train_data = pd.read_csv(\"/content/drive/MyDrive/Colab Notebooks/NLP/train.csv\",encoding='latin_1')\n",
    "test_data = pd.read_csv(\"/content/drive/MyDrive/Colab Notebooks/NLP/test.csv\",encoding='latin_1')"
   ]
  },
  {
   "cell_type": "code",
   "execution_count": 5,
   "id": "fuzzy-bonus",
   "metadata": {
    "colab": {
     "base_uri": "https://localhost:8080/",
     "height": 296
    },
    "id": "conservative-generation",
    "outputId": "f3669f64-3bfd-488b-8f08-1204e11e03ef"
   },
   "outputs": [
    {
     "data": {
      "text/html": [
       "<div>\n",
       "<style scoped>\n",
       "    .dataframe tbody tr th:only-of-type {\n",
       "        vertical-align: middle;\n",
       "    }\n",
       "\n",
       "    .dataframe tbody tr th {\n",
       "        vertical-align: top;\n",
       "    }\n",
       "\n",
       "    .dataframe thead th {\n",
       "        text-align: right;\n",
       "    }\n",
       "</style>\n",
       "<table border=\"1\" class=\"dataframe\">\n",
       "  <thead>\n",
       "    <tr style=\"text-align: right;\">\n",
       "      <th></th>\n",
       "      <th>UserName</th>\n",
       "      <th>ScreenName</th>\n",
       "      <th>Location</th>\n",
       "      <th>TweetAt</th>\n",
       "      <th>OriginalTweet</th>\n",
       "      <th>Sentiment</th>\n",
       "    </tr>\n",
       "  </thead>\n",
       "  <tbody>\n",
       "    <tr>\n",
       "      <th>0</th>\n",
       "      <td>3799</td>\n",
       "      <td>48751</td>\n",
       "      <td>London</td>\n",
       "      <td>16-03-2020</td>\n",
       "      <td>@MeNyrbie @Phil_Gahan @Chrisitv https://t.co/i...</td>\n",
       "      <td>Neutral</td>\n",
       "    </tr>\n",
       "    <tr>\n",
       "      <th>1</th>\n",
       "      <td>3800</td>\n",
       "      <td>48752</td>\n",
       "      <td>UK</td>\n",
       "      <td>16-03-2020</td>\n",
       "      <td>advice Talk to your neighbours family to excha...</td>\n",
       "      <td>Positive</td>\n",
       "    </tr>\n",
       "    <tr>\n",
       "      <th>2</th>\n",
       "      <td>3801</td>\n",
       "      <td>48753</td>\n",
       "      <td>Vagabonds</td>\n",
       "      <td>16-03-2020</td>\n",
       "      <td>Coronavirus Australia: Woolworths to give elde...</td>\n",
       "      <td>Positive</td>\n",
       "    </tr>\n",
       "    <tr>\n",
       "      <th>3</th>\n",
       "      <td>3802</td>\n",
       "      <td>48754</td>\n",
       "      <td>NaN</td>\n",
       "      <td>16-03-2020</td>\n",
       "      <td>My food stock is not the only one which is emp...</td>\n",
       "      <td>Positive</td>\n",
       "    </tr>\n",
       "    <tr>\n",
       "      <th>4</th>\n",
       "      <td>3803</td>\n",
       "      <td>48755</td>\n",
       "      <td>NaN</td>\n",
       "      <td>16-03-2020</td>\n",
       "      <td>Me, ready to go at supermarket during the #COV...</td>\n",
       "      <td>Extremely Negative</td>\n",
       "    </tr>\n",
       "  </tbody>\n",
       "</table>\n",
       "</div>"
      ],
      "text/plain": [
       "   UserName  ...           Sentiment\n",
       "0      3799  ...             Neutral\n",
       "1      3800  ...            Positive\n",
       "2      3801  ...            Positive\n",
       "3      3802  ...            Positive\n",
       "4      3803  ...  Extremely Negative\n",
       "\n",
       "[5 rows x 6 columns]"
      ]
     },
     "execution_count": 5,
     "metadata": {
      "tags": []
     },
     "output_type": "execute_result"
    }
   ],
   "source": [
    "train_data.head()"
   ]
  },
  {
   "cell_type": "markdown",
   "id": "original-planner",
   "metadata": {
    "id": "valid-bedroom"
   },
   "source": [
    "Exploring the dataset and checking for the NULL values"
   ]
  },
  {
   "cell_type": "code",
   "execution_count": 6,
   "id": "portuguese-pickup",
   "metadata": {
    "colab": {
     "base_uri": "https://localhost:8080/"
    },
    "id": "characteristic-tolerance",
    "outputId": "02e9b5a0-cf3a-4b7a-baac-0b6a71af976b"
   },
   "outputs": [
    {
     "name": "stdout",
     "output_type": "stream",
     "text": [
      "<class 'pandas.core.frame.DataFrame'>\n",
      "RangeIndex: 41157 entries, 0 to 41156\n",
      "Data columns (total 6 columns):\n",
      " #   Column         Non-Null Count  Dtype \n",
      "---  ------         --------------  ----- \n",
      " 0   UserName       41157 non-null  int64 \n",
      " 1   ScreenName     41157 non-null  int64 \n",
      " 2   Location       32567 non-null  object\n",
      " 3   TweetAt        41157 non-null  object\n",
      " 4   OriginalTweet  41157 non-null  object\n",
      " 5   Sentiment      41157 non-null  object\n",
      "dtypes: int64(2), object(4)\n",
      "memory usage: 1.9+ MB\n"
     ]
    }
   ],
   "source": [
    "train_data.info()"
   ]
  },
  {
   "cell_type": "markdown",
   "id": "charged-springer",
   "metadata": {
    "id": "headed-chester"
   },
   "source": [
    "EDA on Sentiment Column"
   ]
  },
  {
   "cell_type": "code",
   "execution_count": 7,
   "id": "consistent-rebel",
   "metadata": {
    "colab": {
     "base_uri": "https://localhost:8080/"
    },
    "id": "streaming-devon",
    "outputId": "a63ad1b8-57eb-434c-affc-af3c2fecaa81"
   },
   "outputs": [
    {
     "data": {
      "text/plain": [
       "Positive              11422\n",
       "Negative               9917\n",
       "Neutral                7713\n",
       "Extremely Positive     6624\n",
       "Extremely Negative     5481\n",
       "Name: Sentiment, dtype: int64"
      ]
     },
     "execution_count": 7,
     "metadata": {
      "tags": []
     },
     "output_type": "execute_result"
    }
   ],
   "source": [
    "train_data['Sentiment'].value_counts()"
   ]
  },
  {
   "cell_type": "code",
   "execution_count": 8,
   "id": "filled-benjamin",
   "metadata": {
    "colab": {
     "base_uri": "https://localhost:8080/"
    },
    "id": "organized-compromise",
    "outputId": "f61462dd-a3ae-4542-ce6c-16354c0b47c3"
   },
   "outputs": [
    {
     "data": {
      "text/plain": [
       "UserName            0\n",
       "ScreenName          0\n",
       "Location         8590\n",
       "TweetAt             0\n",
       "OriginalTweet       0\n",
       "Sentiment           0\n",
       "dtype: int64"
      ]
     },
     "execution_count": 8,
     "metadata": {
      "tags": []
     },
     "output_type": "execute_result"
    }
   ],
   "source": [
    "train_data.isnull().sum()"
   ]
  },
  {
   "cell_type": "code",
   "execution_count": 9,
   "id": "proper-shaft",
   "metadata": {
    "colab": {
     "base_uri": "https://localhost:8080/"
    },
    "id": "copyrighted-front",
    "outputId": "a134d686-30f5-4f1e-e9be-0241f619eeab"
   },
   "outputs": [
    {
     "data": {
      "text/plain": [
       "UserName           0\n",
       "ScreenName         0\n",
       "Location         834\n",
       "TweetAt            0\n",
       "OriginalTweet      0\n",
       "dtype: int64"
      ]
     },
     "execution_count": 9,
     "metadata": {
      "tags": []
     },
     "output_type": "execute_result"
    }
   ],
   "source": [
    "test_data.isnull().sum()"
   ]
  },
  {
   "cell_type": "markdown",
   "id": "portuguese-alexandria",
   "metadata": {
    "id": "foreign-journey"
   },
   "source": [
    "EDA on Sentiment Column"
   ]
  },
  {
   "cell_type": "code",
   "execution_count": 10,
   "id": "proper-dylan",
   "metadata": {
    "colab": {
     "base_uri": "https://localhost:8080/",
     "height": 265
    },
    "id": "hairy-zimbabwe",
    "outputId": "23f66cfb-c21c-44de-c51a-d1a48eef1ddb"
   },
   "outputs": [
    {
     "data": {
      "image/png": "[encoded data removed]",
      "text/plain": [
       "<Figure size 432x288 with 1 Axes>"
      ]
     },
     "metadata": {
      "needs_background": "light",
      "tags": []
     },
     "output_type": "display_data"
    }
   ],
   "source": [
    "pos_val = 0\n",
    "neg_val = 0\n",
    "ntl_val = 0\n",
    "exp_val = 0\n",
    "exn_val = 0\n",
    "for i in train_data['Sentiment']:\n",
    "    if i == 'Positive':\n",
    "        pos_val+=1\n",
    "    elif i =='Extremely Positive':\n",
    "        exp_val+=1\n",
    "    elif i =='Extremely Negative':\n",
    "        exn_val+=1\n",
    "    elif i =='Negative':\n",
    "        neg_val+=1\n",
    "    else:\n",
    "        ntl_val+=1\n",
    "data = [pos_val,neg_val,ntl_val,exp_val,exn_val]\n",
    "plt.bar(['Positive','Negative','Neutral','Ext Positive','Ext Negative'],data,color='orange')\n",
    "plt.show()"
   ]
  },
  {
   "cell_type": "markdown",
   "id": "frozen-investigator",
   "metadata": {
    "id": "governmental-scheduling"
   },
   "source": [
    "Dropping down the unwanted column for the training the data"
   ]
  },
  {
   "cell_type": "code",
   "execution_count": 11,
   "id": "narrow-anatomy",
   "metadata": {
    "id": "legitimate-pastor"
   },
   "outputs": [],
   "source": [
    "train_data = train_data.drop(['ScreenName','Location','TweetAt','UserName'],axis=1)"
   ]
  },
  {
   "cell_type": "code",
   "execution_count": 12,
   "id": "split-quantity",
   "metadata": {
    "colab": {
     "base_uri": "https://localhost:8080/",
     "height": 195
    },
    "id": "liquid-rubber",
    "outputId": "36dfe2c0-8540-4019-ddce-f7750e86116c"
   },
   "outputs": [
    {
     "data": {
      "text/html": [
       "<div>\n",
       "<style scoped>\n",
       "    .dataframe tbody tr th:only-of-type {\n",
       "        vertical-align: middle;\n",
       "    }\n",
       "\n",
       "    .dataframe tbody tr th {\n",
       "        vertical-align: top;\n",
       "    }\n",
       "\n",
       "    .dataframe thead th {\n",
       "        text-align: right;\n",
       "    }\n",
       "</style>\n",
       "<table border=\"1\" class=\"dataframe\">\n",
       "  <thead>\n",
       "    <tr style=\"text-align: right;\">\n",
       "      <th></th>\n",
       "      <th>OriginalTweet</th>\n",
       "      <th>Sentiment</th>\n",
       "    </tr>\n",
       "  </thead>\n",
       "  <tbody>\n",
       "    <tr>\n",
       "      <th>0</th>\n",
       "      <td>@MeNyrbie @Phil_Gahan @Chrisitv https://t.co/i...</td>\n",
       "      <td>Neutral</td>\n",
       "    </tr>\n",
       "    <tr>\n",
       "      <th>1</th>\n",
       "      <td>advice Talk to your neighbours family to excha...</td>\n",
       "      <td>Positive</td>\n",
       "    </tr>\n",
       "    <tr>\n",
       "      <th>2</th>\n",
       "      <td>Coronavirus Australia: Woolworths to give elde...</td>\n",
       "      <td>Positive</td>\n",
       "    </tr>\n",
       "    <tr>\n",
       "      <th>3</th>\n",
       "      <td>My food stock is not the only one which is emp...</td>\n",
       "      <td>Positive</td>\n",
       "    </tr>\n",
       "    <tr>\n",
       "      <th>4</th>\n",
       "      <td>Me, ready to go at supermarket during the #COV...</td>\n",
       "      <td>Extremely Negative</td>\n",
       "    </tr>\n",
       "  </tbody>\n",
       "</table>\n",
       "</div>"
      ],
      "text/plain": [
       "                                       OriginalTweet           Sentiment\n",
       "0  @MeNyrbie @Phil_Gahan @Chrisitv https://t.co/i...             Neutral\n",
       "1  advice Talk to your neighbours family to excha...            Positive\n",
       "2  Coronavirus Australia: Woolworths to give elde...            Positive\n",
       "3  My food stock is not the only one which is emp...            Positive\n",
       "4  Me, ready to go at supermarket during the #COV...  Extremely Negative"
      ]
     },
     "execution_count": 12,
     "metadata": {
      "tags": []
     },
     "output_type": "execute_result"
    }
   ],
   "source": [
    "train_data.head()"
   ]
  },
  {
   "cell_type": "code",
   "execution_count": 13,
   "id": "early-baseball",
   "metadata": {
    "colab": {
     "base_uri": "https://localhost:8080/"
    },
    "id": "magnetic-nigeria",
    "outputId": "c1003d2a-28d5-4478-8151-fdc558e5bc6b"
   },
   "outputs": [
    {
     "data": {
      "text/plain": [
       "OriginalTweet    0\n",
       "Sentiment        0\n",
       "dtype: int64"
      ]
     },
     "execution_count": 13,
     "metadata": {
      "tags": []
     },
     "output_type": "execute_result"
    }
   ],
   "source": [
    "train_data.isnull().sum()"
   ]
  },
  {
   "cell_type": "code",
   "execution_count": 14,
   "id": "young-definition",
   "metadata": {
    "id": "comparable-wells"
   },
   "outputs": [],
   "source": [
    "test_data = test_data.drop(['ScreenName','Location','TweetAt'],axis=1)"
   ]
  },
  {
   "cell_type": "code",
   "execution_count": 15,
   "id": "metric-skating",
   "metadata": {
    "colab": {
     "base_uri": "https://localhost:8080/"
    },
    "id": "functional-individual",
    "outputId": "6759d7d2-8591-4d2f-b4fb-c893ebbcb58e"
   },
   "outputs": [
    {
     "data": {
      "text/plain": [
       "UserName         0\n",
       "OriginalTweet    0\n",
       "dtype: int64"
      ]
     },
     "execution_count": 15,
     "metadata": {
      "tags": []
     },
     "output_type": "execute_result"
    }
   ],
   "source": [
    "test_data.isnull().sum()"
   ]
  },
  {
   "cell_type": "markdown",
   "id": "christian-binary",
   "metadata": {
    "id": "invalid-startup"
   },
   "source": [
    "Preprocess the data and Remove the mentions , links etc"
   ]
  },
  {
   "cell_type": "code",
   "execution_count": 17,
   "id": "random-delay",
   "metadata": {
    "colab": {
     "base_uri": "https://localhost:8080/"
    },
    "id": "nasty-championship",
    "outputId": "1781f567-5ef3-4a49-a172-5d21ccee1691"
   },
   "outputs": [
    {
     "name": "stdout",
     "output_type": "stream",
     "text": [
      "[nltk_data] Downloading package stopwords to /root/nltk_data...\n",
      "[nltk_data]   Unzipping corpora/stopwords.zip.\n"
     ]
    }
   ],
   "source": [
    "# load stop words\n",
    "import nltk\n",
    "nltk.download('stopwords')\n",
    "stop_word = stopwords.words('english')"
   ]
  },
  {
   "cell_type": "code",
   "execution_count": 18,
   "id": "greek-alert",
   "metadata": {
    "id": "specific-screen"
   },
   "outputs": [],
   "source": [
    "# Preprocessing the data\n",
    "def remove_urls(text):\n",
    "    url_remove = re.compile(r'https?://\\S+|www\\.\\S+')\n",
    "    return url_remove.sub(r'', text)\n",
    "\n",
    "def remove_html(text):\n",
    "    html=re.compile(r'<.*?>')\n",
    "    return html.sub(r'',text)\n",
    "\n",
    "def lower(text):\n",
    "    low_text= text.lower()\n",
    "    return low_text\n",
    "\n",
    "def remove_num(text):\n",
    "    remove= re.sub(r'\\d+', '', text)\n",
    "    return remove\n",
    "\n",
    "def remove_punct(text):\n",
    "    punct = re.sub(r\"[^\\w\\s\\d]\",\"\", text)\n",
    "    return punct\n",
    "\n",
    "def remove_mention(x):\n",
    "    text=re.sub(r'@\\w+','',x)\n",
    "    return text\n",
    "\n",
    "def remove_hash(x):\n",
    "    text=re.sub(r'#\\w+','',x)\n",
    "    return text\n",
    "\n",
    "def remove_space(text):\n",
    "    space_remove = re.sub(r\"\\s+\",\" \",text).strip()\n",
    "    return space_remove\n",
    "\n",
    "def remove_stopwords(text):\n",
    "    text = text.split()\n",
    "    text = \" \".join([word for word in text if not word in stop_word])\n",
    "    return text\n",
    "\n",
    "train_data['OriginalTweet'] = train_data['OriginalTweet'].apply(lambda x:remove_urls(x))\n",
    "train_data['OriginalTweet'] = train_data['OriginalTweet'].apply(lambda x:remove_html(x))\n",
    "train_data['OriginalTweet'] = train_data['OriginalTweet'].apply(lambda x:lower(x))\n",
    "train_data['OriginalTweet'] = train_data['OriginalTweet'].apply(lambda x:remove_num(x))\n",
    "train_data['OriginalTweet'] = train_data['OriginalTweet'].apply(lambda x:remove_mention(x))\n",
    "train_data['OriginalTweet'] = train_data['OriginalTweet'].apply(lambda x:remove_hash(x))\n",
    "train_data['OriginalTweet'] = train_data['OriginalTweet'].apply(lambda x:remove_space(x))\n",
    "train_data['OriginalTweet'] = train_data['OriginalTweet'].apply(lambda x:remove_stopwords(x))"
   ]
  },
  {
   "cell_type": "code",
   "execution_count": 19,
   "id": "greatest-rocket",
   "metadata": {
    "colab": {
     "base_uri": "https://localhost:8080/",
     "height": 639
    },
    "id": "overhead-onion",
    "outputId": "2cdf5dde-5b79-4386-bc44-48ece44cc880"
   },
   "outputs": [
    {
     "data": {
      "text/html": [
       "<div>\n",
       "<style scoped>\n",
       "    .dataframe tbody tr th:only-of-type {\n",
       "        vertical-align: middle;\n",
       "    }\n",
       "\n",
       "    .dataframe tbody tr th {\n",
       "        vertical-align: top;\n",
       "    }\n",
       "\n",
       "    .dataframe thead th {\n",
       "        text-align: right;\n",
       "    }\n",
       "</style>\n",
       "<table border=\"1\" class=\"dataframe\">\n",
       "  <thead>\n",
       "    <tr style=\"text-align: right;\">\n",
       "      <th></th>\n",
       "      <th>OriginalTweet</th>\n",
       "      <th>Sentiment</th>\n",
       "    </tr>\n",
       "  </thead>\n",
       "  <tbody>\n",
       "    <tr>\n",
       "      <th>0</th>\n",
       "      <td></td>\n",
       "      <td>Neutral</td>\n",
       "    </tr>\n",
       "    <tr>\n",
       "      <th>1</th>\n",
       "      <td>advice talk neighbours family exchange phone n...</td>\n",
       "      <td>Positive</td>\n",
       "    </tr>\n",
       "    <tr>\n",
       "      <th>2</th>\n",
       "      <td>coronavirus australia: woolworths give elderly...</td>\n",
       "      <td>Positive</td>\n",
       "    </tr>\n",
       "    <tr>\n",
       "      <th>3</th>\n",
       "      <td>food stock one empty... please, panic, enough ...</td>\n",
       "      <td>Positive</td>\n",
       "    </tr>\n",
       "    <tr>\n",
       "      <th>4</th>\n",
       "      <td>me, ready go supermarket outbreak. i'm paranoi...</td>\n",
       "      <td>Extremely Negative</td>\n",
       "    </tr>\n",
       "    <tr>\n",
       "      <th>5</th>\n",
       "      <td>news regionâs first confirmed covid- case cam...</td>\n",
       "      <td>Positive</td>\n",
       "    </tr>\n",
       "    <tr>\n",
       "      <th>6</th>\n",
       "      <td>cashier grocery store sharing insights prove c...</td>\n",
       "      <td>Positive</td>\n",
       "    </tr>\n",
       "    <tr>\n",
       "      <th>7</th>\n",
       "      <td>supermarket today. buy toilet paper.</td>\n",
       "      <td>Neutral</td>\n",
       "    </tr>\n",
       "    <tr>\n",
       "      <th>8</th>\n",
       "      <td>due covid- retail store classroom atlanta open...</td>\n",
       "      <td>Positive</td>\n",
       "    </tr>\n",
       "    <tr>\n",
       "      <th>9</th>\n",
       "      <td>corona prevention,we stop buy things cash use ...</td>\n",
       "      <td>Negative</td>\n",
       "    </tr>\n",
       "    <tr>\n",
       "      <th>10</th>\n",
       "      <td>month crowding supermarkets restaurants, howev...</td>\n",
       "      <td>Neutral</td>\n",
       "    </tr>\n",
       "    <tr>\n",
       "      <th>11</th>\n",
       "      <td>due covid- situation, increased demand food pr...</td>\n",
       "      <td>Extremely Positive</td>\n",
       "    </tr>\n",
       "    <tr>\n",
       "      <th>12</th>\n",
       "      <td>caring community. letâs look less capable vil...</td>\n",
       "      <td>Extremely Positive</td>\n",
       "    </tr>\n",
       "    <tr>\n",
       "      <th>13</th>\n",
       "      <td>me: need stock food, i'll amazon deliver whate...</td>\n",
       "      <td>Positive</td>\n",
       "    </tr>\n",
       "    <tr>\n",
       "      <th>14</th>\n",
       "      <td>adara releases covid- resource center travel b...</td>\n",
       "      <td>Positive</td>\n",
       "    </tr>\n",
       "    <tr>\n",
       "      <th>15</th>\n",
       "      <td>lines grocery store unpredictable, eating safe...</td>\n",
       "      <td>Positive</td>\n",
       "    </tr>\n",
       "    <tr>\n",
       "      <th>16</th>\n",
       "      <td>????? ????? ????? ????? ?? ?????? ????? ??????...</td>\n",
       "      <td>Neutral</td>\n",
       "    </tr>\n",
       "    <tr>\n",
       "      <th>17</th>\n",
       "      <td>mar russia consumer surveillance watchdog repo...</td>\n",
       "      <td>Neutral</td>\n",
       "    </tr>\n",
       "    <tr>\n",
       "      <th>18</th>\n",
       "      <td>amazon glitch stymies whole foods, fresh groce...</td>\n",
       "      <td>Extremely Positive</td>\n",
       "    </tr>\n",
       "    <tr>\n",
       "      <th>19</th>\n",
       "      <td>struggling, please consider donating food bank...</td>\n",
       "      <td>Positive</td>\n",
       "    </tr>\n",
       "  </tbody>\n",
       "</table>\n",
       "</div>"
      ],
      "text/plain": [
       "                                        OriginalTweet           Sentiment\n",
       "0                                                                 Neutral\n",
       "1   advice talk neighbours family exchange phone n...            Positive\n",
       "2   coronavirus australia: woolworths give elderly...            Positive\n",
       "3   food stock one empty... please, panic, enough ...            Positive\n",
       "4   me, ready go supermarket outbreak. i'm paranoi...  Extremely Negative\n",
       "5   news regionâs first confirmed covid- case cam...            Positive\n",
       "6   cashier grocery store sharing insights prove c...            Positive\n",
       "7                supermarket today. buy toilet paper.             Neutral\n",
       "8   due covid- retail store classroom atlanta open...            Positive\n",
       "9   corona prevention,we stop buy things cash use ...            Negative\n",
       "10  month crowding supermarkets restaurants, howev...             Neutral\n",
       "11  due covid- situation, increased demand food pr...  Extremely Positive\n",
       "12  caring community. letâs look less capable vil...  Extremely Positive\n",
       "13  me: need stock food, i'll amazon deliver whate...            Positive\n",
       "14  adara releases covid- resource center travel b...            Positive\n",
       "15  lines grocery store unpredictable, eating safe...            Positive\n",
       "16  ????? ????? ????? ????? ?? ?????? ????? ??????...             Neutral\n",
       "17  mar russia consumer surveillance watchdog repo...             Neutral\n",
       "18  amazon glitch stymies whole foods, fresh groce...  Extremely Positive\n",
       "19  struggling, please consider donating food bank...            Positive"
      ]
     },
     "execution_count": 19,
     "metadata": {
      "tags": []
     },
     "output_type": "execute_result"
    }
   ],
   "source": [
    "train_data.head(20)"
   ]
  },
  {
   "cell_type": "markdown",
   "id": "convertible-reggae",
   "metadata": {
    "id": "comparable-listing"
   },
   "source": [
    "Preprocessing the test data"
   ]
  },
  {
   "cell_type": "code",
   "execution_count": 20,
   "id": "informed-dragon",
   "metadata": {
    "id": "suited-reader"
   },
   "outputs": [],
   "source": [
    "test_data['OriginalTweet'] = test_data['OriginalTweet'].apply(lambda x:remove_urls(x))\n",
    "test_data['OriginalTweet'] = test_data['OriginalTweet'].apply(lambda x:remove_html(x))\n",
    "test_data['OriginalTweet'] = test_data['OriginalTweet'].apply(lambda x:lower(x))\n",
    "test_data['OriginalTweet'] = test_data['OriginalTweet'].apply(lambda x:remove_num(x))\n",
    "test_data['OriginalTweet'] = test_data['OriginalTweet'].apply(lambda x:remove_mention(x))\n",
    "test_data['OriginalTweet'] = test_data['OriginalTweet'].apply(lambda x:remove_hash(x))\n",
    "test_data['OriginalTweet'] = test_data['OriginalTweet'].apply(lambda x:remove_space(x))\n",
    "test_data['OriginalTweet'] = test_data['OriginalTweet'].apply(lambda x:remove_stopwords(x))"
   ]
  },
  {
   "cell_type": "code",
   "execution_count": 21,
   "id": "laughing-activity",
   "metadata": {
    "colab": {
     "base_uri": "https://localhost:8080/",
     "height": 639
    },
    "id": "superior-talent",
    "outputId": "1ae34ff1-b486-40cf-fb06-59f33e8971d0"
   },
   "outputs": [
    {
     "data": {
      "text/html": [
       "<div>\n",
       "<style scoped>\n",
       "    .dataframe tbody tr th:only-of-type {\n",
       "        vertical-align: middle;\n",
       "    }\n",
       "\n",
       "    .dataframe tbody tr th {\n",
       "        vertical-align: top;\n",
       "    }\n",
       "\n",
       "    .dataframe thead th {\n",
       "        text-align: right;\n",
       "    }\n",
       "</style>\n",
       "<table border=\"1\" class=\"dataframe\">\n",
       "  <thead>\n",
       "    <tr style=\"text-align: right;\">\n",
       "      <th></th>\n",
       "      <th>UserName</th>\n",
       "      <th>OriginalTweet</th>\n",
       "    </tr>\n",
       "  </thead>\n",
       "  <tbody>\n",
       "    <tr>\n",
       "      <th>0</th>\n",
       "      <td>1</td>\n",
       "      <td>trending: new yorkers encounter empty supermar...</td>\n",
       "    </tr>\n",
       "    <tr>\n",
       "      <th>1</th>\n",
       "      <td>2</td>\n",
       "      <td>find hand sanitizer fred meyer, turned . $. pa...</td>\n",
       "    </tr>\n",
       "    <tr>\n",
       "      <th>2</th>\n",
       "      <td>3</td>\n",
       "      <td>find protect loved ones . ?</td>\n",
       "    </tr>\n",
       "    <tr>\n",
       "      <th>3</th>\n",
       "      <td>4</td>\n",
       "      <td>buying hits city anxious shoppers stock food&amp;a...</td>\n",
       "    </tr>\n",
       "    <tr>\n",
       "      <th>4</th>\n",
       "      <td>5</td>\n",
       "      <td>one week everyone buying baby milk powder next...</td>\n",
       "    </tr>\n",
       "    <tr>\n",
       "      <th>5</th>\n",
       "      <td>6</td>\n",
       "      <td>remember last time paid $. gallon regular gas ...</td>\n",
       "    </tr>\n",
       "    <tr>\n",
       "      <th>6</th>\n",
       "      <td>7</td>\n",
       "      <td>voting age = hand sanitizer ?</td>\n",
       "    </tr>\n",
       "    <tr>\n",
       "      <th>7</th>\n",
       "      <td>8</td>\n",
       "      <td>\"we can?t stop without protecting . prices sur...</td>\n",
       "    </tr>\n",
       "    <tr>\n",
       "      <th>8</th>\n",
       "      <td>9</td>\n",
       "      <td>hi twitter! pharmacist. sell hand sanitizer li...</td>\n",
       "    </tr>\n",
       "    <tr>\n",
       "      <th>9</th>\n",
       "      <td>10</td>\n",
       "      <td>anyone supermarket last days? went normal shop...</td>\n",
       "    </tr>\n",
       "    <tr>\n",
       "      <th>10</th>\n",
       "      <td>11</td>\n",
       "      <td>best quality couches unbelievably low prices a...</td>\n",
       "    </tr>\n",
       "    <tr>\n",
       "      <th>11</th>\n",
       "      <td>12</td>\n",
       "      <td>beware counterfeits trying sell fake masks che...</td>\n",
       "    </tr>\n",
       "    <tr>\n",
       "      <th>12</th>\n",
       "      <td>13</td>\n",
       "      <td>panic food buying germany due begun. left behi...</td>\n",
       "    </tr>\n",
       "    <tr>\n",
       "      <th>13</th>\n",
       "      <td>14</td>\n",
       "      <td>went grocery store, turns cleaning supplies bo...</td>\n",
       "    </tr>\n",
       "    <tr>\n",
       "      <th>14</th>\n",
       "      <td>15</td>\n",
       "      <td>busy watching election returns bracing covid- ...</td>\n",
       "    </tr>\n",
       "    <tr>\n",
       "      <th>15</th>\n",
       "      <td>16</td>\n",
       "      <td>providing customers free seats. passengers for...</td>\n",
       "    </tr>\n",
       "    <tr>\n",
       "      <th>16</th>\n",
       "      <td>17</td>\n",
       "      <td>precautionary measures taken respective restau...</td>\n",
       "    </tr>\n",
       "    <tr>\n",
       "      <th>17</th>\n",
       "      <td>18</td>\n",
       "      <td>you?re stockpiling food &amp;amp; supplies, buy ex...</td>\n",
       "    </tr>\n",
       "    <tr>\n",
       "      <th>18</th>\n",
       "      <td>19</td>\n",
       "      <td>that's week now. bit optimistic. probably take...</td>\n",
       "    </tr>\n",
       "    <tr>\n",
       "      <th>19</th>\n",
       "      <td>20</td>\n",
       "      <td>studies show like live nine days hard surfaces...</td>\n",
       "    </tr>\n",
       "  </tbody>\n",
       "</table>\n",
       "</div>"
      ],
      "text/plain": [
       "    UserName                                      OriginalTweet\n",
       "0          1  trending: new yorkers encounter empty supermar...\n",
       "1          2  find hand sanitizer fred meyer, turned . $. pa...\n",
       "2          3                        find protect loved ones . ?\n",
       "3          4  buying hits city anxious shoppers stock food&a...\n",
       "4          5  one week everyone buying baby milk powder next...\n",
       "5          6  remember last time paid $. gallon regular gas ...\n",
       "6          7                      voting age = hand sanitizer ?\n",
       "7          8  \"we can?t stop without protecting . prices sur...\n",
       "8          9  hi twitter! pharmacist. sell hand sanitizer li...\n",
       "9         10  anyone supermarket last days? went normal shop...\n",
       "10        11  best quality couches unbelievably low prices a...\n",
       "11        12  beware counterfeits trying sell fake masks che...\n",
       "12        13  panic food buying germany due begun. left behi...\n",
       "13        14  went grocery store, turns cleaning supplies bo...\n",
       "14        15  busy watching election returns bracing covid- ...\n",
       "15        16  providing customers free seats. passengers for...\n",
       "16        17  precautionary measures taken respective restau...\n",
       "17        18  you?re stockpiling food &amp; supplies, buy ex...\n",
       "18        19  that's week now. bit optimistic. probably take...\n",
       "19        20  studies show like live nine days hard surfaces..."
      ]
     },
     "execution_count": 21,
     "metadata": {
      "tags": []
     },
     "output_type": "execute_result"
    }
   ],
   "source": [
    "test_data.head(20)"
   ]
  },
  {
   "cell_type": "markdown",
   "id": "offensive-chorus",
   "metadata": {
    "id": "hindu-voluntary"
   },
   "source": [
    "Encoding the target value since it is a Categorical data"
   ]
  },
  {
   "cell_type": "code",
   "execution_count": 22,
   "id": "strange-intellectual",
   "metadata": {
    "colab": {
     "base_uri": "https://localhost:8080/",
     "height": 343
    },
    "id": "destroyed-aviation",
    "outputId": "0d962ea1-75fe-467c-da88-adf6e54cfd33"
   },
   "outputs": [
    {
     "data": {
      "text/html": [
       "<div>\n",
       "<style scoped>\n",
       "    .dataframe tbody tr th:only-of-type {\n",
       "        vertical-align: middle;\n",
       "    }\n",
       "\n",
       "    .dataframe tbody tr th {\n",
       "        vertical-align: top;\n",
       "    }\n",
       "\n",
       "    .dataframe thead th {\n",
       "        text-align: right;\n",
       "    }\n",
       "</style>\n",
       "<table border=\"1\" class=\"dataframe\">\n",
       "  <thead>\n",
       "    <tr style=\"text-align: right;\">\n",
       "      <th></th>\n",
       "      <th>OriginalTweet</th>\n",
       "      <th>Sentiment</th>\n",
       "    </tr>\n",
       "  </thead>\n",
       "  <tbody>\n",
       "    <tr>\n",
       "      <th>0</th>\n",
       "      <td></td>\n",
       "      <td>3</td>\n",
       "    </tr>\n",
       "    <tr>\n",
       "      <th>1</th>\n",
       "      <td>advice talk neighbours family exchange phone n...</td>\n",
       "      <td>4</td>\n",
       "    </tr>\n",
       "    <tr>\n",
       "      <th>2</th>\n",
       "      <td>coronavirus australia: woolworths give elderly...</td>\n",
       "      <td>4</td>\n",
       "    </tr>\n",
       "    <tr>\n",
       "      <th>3</th>\n",
       "      <td>food stock one empty... please, panic, enough ...</td>\n",
       "      <td>4</td>\n",
       "    </tr>\n",
       "    <tr>\n",
       "      <th>4</th>\n",
       "      <td>me, ready go supermarket outbreak. i'm paranoi...</td>\n",
       "      <td>0</td>\n",
       "    </tr>\n",
       "    <tr>\n",
       "      <th>5</th>\n",
       "      <td>news regionâs first confirmed covid- case cam...</td>\n",
       "      <td>4</td>\n",
       "    </tr>\n",
       "    <tr>\n",
       "      <th>6</th>\n",
       "      <td>cashier grocery store sharing insights prove c...</td>\n",
       "      <td>4</td>\n",
       "    </tr>\n",
       "    <tr>\n",
       "      <th>7</th>\n",
       "      <td>supermarket today. buy toilet paper.</td>\n",
       "      <td>3</td>\n",
       "    </tr>\n",
       "    <tr>\n",
       "      <th>8</th>\n",
       "      <td>due covid- retail store classroom atlanta open...</td>\n",
       "      <td>4</td>\n",
       "    </tr>\n",
       "    <tr>\n",
       "      <th>9</th>\n",
       "      <td>corona prevention,we stop buy things cash use ...</td>\n",
       "      <td>2</td>\n",
       "    </tr>\n",
       "  </tbody>\n",
       "</table>\n",
       "</div>"
      ],
      "text/plain": [
       "                                       OriginalTweet  Sentiment\n",
       "0                                                             3\n",
       "1  advice talk neighbours family exchange phone n...          4\n",
       "2  coronavirus australia: woolworths give elderly...          4\n",
       "3  food stock one empty... please, panic, enough ...          4\n",
       "4  me, ready go supermarket outbreak. i'm paranoi...          0\n",
       "5  news regionâs first confirmed covid- case cam...          4\n",
       "6  cashier grocery store sharing insights prove c...          4\n",
       "7               supermarket today. buy toilet paper.          3\n",
       "8  due covid- retail store classroom atlanta open...          4\n",
       "9  corona prevention,we stop buy things cash use ...          2"
      ]
     },
     "execution_count": 22,
     "metadata": {
      "tags": []
     },
     "output_type": "execute_result"
    }
   ],
   "source": [
    "le = LabelEncoder() \n",
    "train_data['Sentiment'] = le.fit_transform(train_data['Sentiment'])\n",
    "train_data.head(10)"
   ]
  },
  {
   "cell_type": "code",
   "execution_count": 23,
   "id": "brutal-increase",
   "metadata": {
    "colab": {
     "base_uri": "https://localhost:8080/"
    },
    "id": "inner-commissioner",
    "outputId": "898fc4bf-e982-47d2-a0e2-960f3f7cfd95"
   },
   "outputs": [
    {
     "data": {
      "text/plain": [
       "4    11422\n",
       "2     9917\n",
       "3     7713\n",
       "1     6624\n",
       "0     5481\n",
       "Name: Sentiment, dtype: int64"
      ]
     },
     "execution_count": 23,
     "metadata": {
      "tags": []
     },
     "output_type": "execute_result"
    }
   ],
   "source": [
    "train_data['Sentiment'].value_counts()"
   ]
  },
  {
   "cell_type": "code",
   "execution_count": 24,
   "id": "disabled-accordance",
   "metadata": {
    "id": "federal-techno"
   },
   "outputs": [],
   "source": [
    "output_dict = {4:\"Positive\",2:\"Negative\",3:\"Neutral\",1:\"Extremely Positive\",0:\"Extremely Negative\"}"
   ]
  },
  {
   "cell_type": "markdown",
   "id": "christian-quarter",
   "metadata": {
    "id": "dangerous-positive"
   },
   "source": [
    "Vectorization of the Words for mutliclass classification"
   ]
  },
  {
   "cell_type": "code",
   "execution_count": 25,
   "id": "nutritional-frame",
   "metadata": {
    "colab": {
     "base_uri": "https://localhost:8080/"
    },
    "id": "mathematical-belfast",
    "outputId": "8dca41a6-d204-45d5-ed7d-365143a89272"
   },
   "outputs": [
    {
     "name": "stdout",
     "output_type": "stream",
     "text": [
      "280\n"
     ]
    }
   ],
   "source": [
    "max_len = np.max(train_data['OriginalTweet'].apply(lambda x :len(x)))\n",
    "max_dim =16\n",
    "print(max_len)"
   ]
  },
  {
   "cell_type": "markdown",
   "id": "buried-ghana",
   "metadata": {
    "id": "Ncjw2GX_9YRn"
   },
   "source": [
    "Model Creation and Pre-processing"
   ]
  },
  {
   "cell_type": "code",
   "execution_count": 27,
   "id": "documented-wildlife",
   "metadata": {
    "id": "considerable-school"
   },
   "outputs": [],
   "source": [
    "tokenizer = Tokenizer()\n",
    "X_new = train_data['OriginalTweet']\n",
    "Y_new = train_data['Sentiment']\n",
    "Y_new = to_categorical(Y_new,5)\n",
    "tokenizer.fit_on_texts(X_new)\n",
    "vocab_length = len(tokenizer.word_index) + 1\n",
    "\n",
    "X_new = tokenizer.texts_to_sequences(X_new)\n",
    "\n",
    "X_new = pad_sequences(X_new, maxlen=max_len, padding='post')\n",
    "\n",
    "model = tf.keras.Sequential([\n",
    "    tf.keras.layers.Embedding(vocab_length, max_dim, input_length=max_len),\n",
    "    tf.keras.layers.Bidirectional(tf.keras.layers.GRU(256, return_sequences=True)),\n",
    "    tf.keras.layers.GlobalAveragePooling1D(),\n",
    "    tf.keras.layers.Dense(64, activation='relu'),\n",
    "    tf.keras.layers.Dropout(0.4),\n",
    "    tf.keras.layers.Dense(5, activation='softmax')\n",
    "])\n",
    "\n",
    "model.compile(loss='categorical_crossentropy',optimizer=\"adam\",metrics=['accuracy'])\n"
   ]
  },
  {
   "cell_type": "code",
   "execution_count": 28,
   "id": "failing-cholesterol",
   "metadata": {
    "id": "surface-consultancy"
   },
   "outputs": [],
   "source": [
    "X_train, X_test, Y_train, Y_test = train_test_split(X_new,Y_new,test_size=0.20)"
   ]
  },
  {
   "cell_type": "code",
   "execution_count": 29,
   "id": "instant-check",
   "metadata": {
    "colab": {
     "base_uri": "https://localhost:8080/"
    },
    "id": "valued-maximum",
    "outputId": "a176c174-adf9-4591-de1c-60d318e83889"
   },
   "outputs": [
    {
     "name": "stdout",
     "output_type": "stream",
     "text": [
      "Model: \"sequential\"\n",
      "_________________________________________________________________\n",
      "Layer (type)                 Output Shape              Param #   \n",
      "=================================================================\n",
      "embedding (Embedding)        (None, 280, 16)           574800    \n",
      "_________________________________________________________________\n",
      "bidirectional (Bidirectional (None, 280, 512)          420864    \n",
      "_________________________________________________________________\n",
      "global_average_pooling1d (Gl (None, 512)               0         \n",
      "_________________________________________________________________\n",
      "dense (Dense)                (None, 64)                32832     \n",
      "_________________________________________________________________\n",
      "dropout (Dropout)            (None, 64)                0         \n",
      "_________________________________________________________________\n",
      "dense_1 (Dense)              (None, 5)                 325       \n",
      "=================================================================\n",
      "Total params: 1,028,821\n",
      "Trainable params: 1,028,821\n",
      "Non-trainable params: 0\n",
      "_________________________________________________________________\n",
      "None\n"
     ]
    }
   ],
   "source": [
    "print(model.summary())"
   ]
  },
  {
   "cell_type": "code",
   "execution_count": 30,
   "id": "respective-richards",
   "metadata": {
    "colab": {
     "base_uri": "https://localhost:8080/"
    },
    "id": "supposed-halloween",
    "outputId": "4a5d8fda-b63c-43cc-b51e-4de0739dcf45"
   },
   "outputs": [
    {
     "name": "stdout",
     "output_type": "stream",
     "text": [
      "Epoch 1/10\n",
      "1029/1029 [==============================] - 79s 46ms/step - loss: 1.5707 - accuracy: 0.2741 - val_loss: 1.2656 - val_accuracy: 0.4397\n",
      "Epoch 2/10\n",
      "1029/1029 [==============================] - 47s 45ms/step - loss: 1.0837 - accuracy: 0.5489 - val_loss: 0.7540 - val_accuracy: 0.7358\n",
      "Epoch 3/10\n",
      "1029/1029 [==============================] - 47s 45ms/step - loss: 0.6620 - accuracy: 0.7801 - val_loss: 0.6708 - val_accuracy: 0.7699\n",
      "Epoch 4/10\n",
      "1029/1029 [==============================] - 47s 45ms/step - loss: 0.4767 - accuracy: 0.8552 - val_loss: 0.7031 - val_accuracy: 0.7755\n",
      "Epoch 5/10\n",
      "1029/1029 [==============================] - 46s 45ms/step - loss: 0.3944 - accuracy: 0.8862 - val_loss: 0.7630 - val_accuracy: 0.7636\n",
      "Epoch 6/10\n",
      "1029/1029 [==============================] - 46s 45ms/step - loss: 0.3130 - accuracy: 0.9134 - val_loss: 0.8250 - val_accuracy: 0.7567\n",
      "Epoch 7/10\n",
      "1029/1029 [==============================] - 47s 46ms/step - loss: 0.2618 - accuracy: 0.9282 - val_loss: 0.9641 - val_accuracy: 0.7550\n",
      "Epoch 8/10\n",
      "1029/1029 [==============================] - 47s 45ms/step - loss: 0.2269 - accuracy: 0.9398 - val_loss: 1.0338 - val_accuracy: 0.7478\n",
      "Epoch 9/10\n",
      "1029/1029 [==============================] - 46s 44ms/step - loss: 0.1788 - accuracy: 0.9532 - val_loss: 1.0964 - val_accuracy: 0.7546\n",
      "Epoch 10/10\n",
      "1029/1029 [==============================] - 45s 44ms/step - loss: 0.1596 - accuracy: 0.9556 - val_loss: 1.1008 - val_accuracy: 0.7358\n"
     ]
    }
   ],
   "source": [
    "history = model.fit(X_train, Y_train, epochs=10, \n",
    "                    validation_data=(X_test, Y_test))"
   ]
  },
  {
   "cell_type": "markdown",
   "id": "consecutive-techno",
   "metadata": {
    "id": "GVsRrPdv9eWn"
   },
   "source": [
    "Evaluating the Model Metrics"
   ]
  },
  {
   "cell_type": "code",
   "execution_count": 33,
   "id": "legislative-pastor",
   "metadata": {
    "colab": {
     "base_uri": "https://localhost:8080/"
    },
    "id": "exclusive-stuff",
    "outputId": "6336456a-36d0-4eca-cbe0-b907aac805bf"
   },
   "outputs": [
    {
     "name": "stdout",
     "output_type": "stream",
     "text": [
      "Accuracy on training data is:- 95.36218643188477 %\n",
      "Loss 17.02379584312439\n",
      "Accuracy on validation data is:- 73.57871532440186 %\n",
      "Loss 110.077965259552\n"
     ]
    }
   ],
   "source": [
    "acc = history.history['accuracy']\n",
    "val_acc = history.history['val_accuracy']\n",
    "\n",
    "loss = history.history['loss']\n",
    "val_loss = history.history['val_loss']\n",
    "print(f\"Accuracy on training data is:- {acc[-1]*100} %\")\n",
    "print(f\"Loss {loss[-1]*100}\")\n",
    "\n",
    "print(f\"Accuracy on validation data is:- {val_acc[-1]*100} %\")\n",
    "print(f\"Loss {val_loss[-1]*100}\")\n",
    "\n",
    "Y_pred = model.predict(X_test)"
   ]
  },
  {
   "cell_type": "code",
   "execution_count": 52,
   "id": "spare-journalism",
   "metadata": {
    "colab": {
     "base_uri": "https://localhost:8080/",
     "height": 295
    },
    "id": "wYneX31UA4F4",
    "outputId": "fe8ea241-82aa-4b12-9bf0-d7c9796e3d66"
   },
   "outputs": [
    {
     "data": {
      "image/png": "[encoded data removed]",
      "text/plain": [
       "<Figure size 432x288 with 1 Axes>"
      ]
     },
     "metadata": {
      "needs_background": "light",
      "tags": []
     },
     "output_type": "display_data"
    }
   ],
   "source": [
    "loss = history.history['loss']\n",
    "val_loss = history.history['val_loss']\n",
    "epochs = range(1, len(loss) + 1)\n",
    "plt.plot(epochs, loss, color='red', label='Training loss')\n",
    "plt.plot(epochs, val_loss, color='green', label='Validation loss')\n",
    "plt.title('Training and validation loss')\n",
    "plt.xlabel('Epochs')\n",
    "plt.ylabel('Loss')\n",
    "plt.legend()\n",
    "plt.show()"
   ]
  },
  {
   "cell_type": "markdown",
   "id": "exotic-video",
   "metadata": {
    "id": "VARNUcST90vQ"
   },
   "source": [
    "Exploring the Other Trivial ML models"
   ]
  },
  {
   "cell_type": "code",
   "execution_count": 34,
   "id": "prospective-passing",
   "metadata": {
    "id": "ambient-tribe"
   },
   "outputs": [],
   "source": [
    "vectorizer = CountVectorizer(decode_error = 'replace',stop_words = stop_word)\n",
    "X = train_data['OriginalTweet']\n",
    "Y = train_data['Sentiment']\n",
    "X = vectorizer.fit_transform(X)\n",
    "vocab_length = X.shape[1]\n"
   ]
  },
  {
   "cell_type": "code",
   "execution_count": 35,
   "id": "peaceful-figure",
   "metadata": {
    "colab": {
     "base_uri": "https://localhost:8080/"
    },
    "id": "moved-grass",
    "outputId": "84a62382-fcc4-4907-f06a-daf2d8ec465f"
   },
   "outputs": [
    {
     "name": "stdout",
     "output_type": "stream",
     "text": [
      "(41157, 33560)\n",
      "(41157,)\n",
      "33560\n"
     ]
    }
   ],
   "source": [
    "print(X.shape)\n",
    "print(Y.shape)\n",
    "print(vocab_length)"
   ]
  },
  {
   "cell_type": "code",
   "execution_count": 47,
   "id": "central-charleston",
   "metadata": {
    "id": "accessory-conspiracy"
   },
   "outputs": [],
   "source": [
    "x_train, x_test, y_train, y_test = train_test_split(X,Y,test_size=0.20)\n"
   ]
  },
  {
   "cell_type": "code",
   "execution_count": 48,
   "id": "impressive-southwest",
   "metadata": {
    "colab": {
     "base_uri": "https://localhost:8080/"
    },
    "id": "diverse-spain",
    "outputId": "67601bd6-92b4-4351-8438-c2d8db8ac98b"
   },
   "outputs": [
    {
     "name": "stdout",
     "output_type": "stream",
     "text": [
      "(32925, 33560)\n",
      "(8232, 33560)\n",
      "(32925,)\n",
      "(8232,)\n"
     ]
    }
   ],
   "source": [
    "print(x_train.shape)\n",
    "print(x_test.shape)\n",
    "print(y_train.shape)\n",
    "print(y_test.shape)"
   ]
  },
  {
   "cell_type": "markdown",
   "id": "iraqi-ownership",
   "metadata": {
    "id": "medical-arrangement"
   },
   "source": [
    "Model Creation"
   ]
  },
  {
   "cell_type": "code",
   "execution_count": 66,
   "id": "ancient-automation",
   "metadata": {
    "id": "v0-VCiH5B1oa"
   },
   "outputs": [],
   "source": [
    "accuracy = []\n",
    "x = []\n",
    "\n",
    "accuracy.append(history.history['val_accuracy'][-1])\n",
    "x.append(\"GRU Model\")"
   ]
  },
  {
   "cell_type": "code",
   "execution_count": 49,
   "id": "valid-colon",
   "metadata": {
    "id": "interested-christopher"
   },
   "outputs": [],
   "source": [
    "from sklearn.tree import DecisionTreeClassifier\n",
    "model_DT = DecisionTreeClassifier(criterion=\"gini\")"
   ]
  },
  {
   "cell_type": "code",
   "execution_count": 50,
   "id": "moved-bicycle",
   "metadata": {
    "colab": {
     "base_uri": "https://localhost:8080/"
    },
    "id": "great-society",
    "outputId": "e609609c-fd58-4c19-e793-becf2c956e80"
   },
   "outputs": [
    {
     "data": {
      "text/plain": [
       "array([[ 448,   42,  365,   76,  129],\n",
       "       [  35,  670,  102,   43,  498],\n",
       "       [ 256,   79,  991,  263,  414],\n",
       "       [  31,   30,  163, 1184,  125],\n",
       "       [  90,  309,  386,  212, 1291]])"
      ]
     },
     "execution_count": 50,
     "metadata": {
      "tags": []
     },
     "output_type": "execute_result"
    }
   ],
   "source": [
    "out = model_DT.fit(x_train, y_train)\n",
    "y_pred = model_DT.predict(x_test)\n",
    "cm = confusion_matrix(y_test, y_pred)\n",
    "cm"
   ]
  },
  {
   "cell_type": "code",
   "execution_count": 67,
   "id": "emerging-productivity",
   "metadata": {
    "colab": {
     "base_uri": "https://localhost:8080/"
    },
    "id": "respiratory-startup",
    "outputId": "aec82027-d67a-4b80-caaa-c024c7fa3f5a"
   },
   "outputs": [
    {
     "name": "stdout",
     "output_type": "stream",
     "text": [
      "Training accuracy Score    :  0.9997570235383447\n",
      "Validation accuracy Score :  0.5568513119533528\n",
      "              precision    recall  f1-score   support\n",
      "\n",
      "           0       0.52      0.42      0.47      1060\n",
      "           1       0.59      0.50      0.54      1348\n",
      "           2       0.49      0.49      0.49      2003\n",
      "           3       0.67      0.77      0.72      1533\n",
      "           4       0.53      0.56      0.54      2288\n",
      "\n",
      "    accuracy                           0.56      8232\n",
      "   macro avg       0.56      0.55      0.55      8232\n",
      "weighted avg       0.55      0.56      0.55      8232\n",
      "\n"
     ]
    }
   ],
   "source": [
    "dt_prediction = model_DT.predict(x_test)\n",
    "dt_accuracy = accuracy_score(y_test,dt_prediction)\n",
    "print(\"Training accuracy Score    : \",model_DT.score(x_train,y_train))\n",
    "print(\"Validation accuracy Score : \",dt_accuracy )\n",
    "print(classification_report(y_test, y_pred))\n",
    "\n",
    "accuracy.append(dt_accuracy)\n",
    "x.append(\"Decision Tree\")"
   ]
  },
  {
   "cell_type": "code",
   "execution_count": 41,
   "id": "approved-vector",
   "metadata": {
    "colab": {
     "base_uri": "https://localhost:8080/"
    },
    "id": "czech-briefing",
    "outputId": "5e3819ea-66b6-4a5e-97fe-958b15a6f030"
   },
   "outputs": [
    {
     "name": "stdout",
     "output_type": "stream",
     "text": [
      "Training accuracy Score    :  0.9998611545003298\n",
      "Validation accuracy Score :  0.5698088759313249\n",
      "              precision    recall  f1-score   support\n",
      "\n",
      "           0       0.36      0.69      0.47       854\n",
      "           1       0.34      0.71      0.46       943\n",
      "           2       0.53      0.52      0.53      3049\n",
      "           3       0.84      0.62      0.71      3144\n",
      "           4       0.65      0.52      0.58      4358\n",
      "\n",
      "    accuracy                           0.57     12348\n",
      "   macro avg       0.54      0.61      0.55     12348\n",
      "weighted avg       0.63      0.57      0.58     12348\n",
      "\n"
     ]
    }
   ],
   "source": [
    "from sklearn.ensemble import RandomForestClassifier\n",
    "\n",
    "rf_clf = RandomForestClassifier()\n",
    "\n",
    "rf_clf.fit(x_train,y_train)\n",
    "\n",
    "rf_prediction = rf_clf.predict(x_test)\n",
    "rf_accuracy = accuracy_score(y_test,rf_prediction)\n",
    "print(\"Training accuracy Score    : \",rf_clf.score(x_train,y_train))\n",
    "print(\"Validation accuracy Score : \",rf_accuracy )\n",
    "print(classification_report(rf_prediction,y_test))"
   ]
  },
  {
   "cell_type": "code",
   "execution_count": 68,
   "id": "miniature-youth",
   "metadata": {
    "id": "3hVE-3VyDNxV"
   },
   "outputs": [],
   "source": [
    "accuracy.append(rf_accuracy)\n",
    "x.append(\"Random Forest\")"
   ]
  },
  {
   "cell_type": "code",
   "execution_count": 42,
   "id": "sought-trail",
   "metadata": {
    "colab": {
     "base_uri": "https://localhost:8080/"
    },
    "id": "productive-notice",
    "outputId": "073ec626-a3ee-437c-a6fd-46b47c3ab8b1"
   },
   "outputs": [
    {
     "name": "stdout",
     "output_type": "stream",
     "text": [
      "Training accuracy Score    :  0.8920823353813044\n",
      "Validation accuracy Score :  0.5864107547781017\n",
      "              precision    recall  f1-score   support\n",
      "\n",
      "           0       0.66      0.61      0.63      1742\n",
      "           1       0.72      0.65      0.68      2176\n",
      "           2       0.44      0.52      0.47      2490\n",
      "           3       0.79      0.60      0.69      3027\n",
      "           4       0.47      0.56      0.51      2913\n",
      "\n",
      "    accuracy                           0.59     12348\n",
      "   macro avg       0.61      0.59      0.60     12348\n",
      "weighted avg       0.61      0.59      0.59     12348\n",
      "\n"
     ]
    }
   ],
   "source": [
    "from sklearn.linear_model import SGDClassifier\n",
    "\n",
    "sgd_clf = SGDClassifier(loss = 'hinge', penalty = 'l2', random_state=0)\n",
    "\n",
    "sgd_clf.fit(x_train,y_train)\n",
    "\n",
    "sgd_prediction = sgd_clf.predict(x_test)\n",
    "sgd_accuracy = accuracy_score(y_test,sgd_prediction)\n",
    "print(\"Training accuracy Score    : \",sgd_clf.score(x_train,y_train))\n",
    "print(\"Validation accuracy Score : \",sgd_accuracy )\n",
    "print(classification_report(sgd_prediction,y_test))"
   ]
  },
  {
   "cell_type": "code",
   "execution_count": 69,
   "id": "fiscal-affair",
   "metadata": {
    "id": "ljAg30evDUH3"
   },
   "outputs": [],
   "source": [
    "accuracy.append(sgd_accuracy)\n",
    "x.append(\"Gradient Descent\")"
   ]
  },
  {
   "cell_type": "code",
   "execution_count": 43,
   "id": "welcome-perception",
   "metadata": {
    "colab": {
     "base_uri": "https://localhost:8080/"
    },
    "id": "muslim-marsh",
    "outputId": "47efcc47-990b-4a69-e500-92fdb908b59b"
   },
   "outputs": [
    {
     "name": "stdout",
     "output_type": "stream",
     "text": [
      "training accuracy Score    :  0.734319136380992\n",
      "Validation accuracy Score :  0.47303206997084546\n",
      "              precision    recall  f1-score   support\n",
      "\n",
      "           0       0.36      0.58      0.44      1000\n",
      "           1       0.45      0.56      0.50      1595\n",
      "           2       0.51      0.42      0.46      3602\n",
      "           3       0.32      0.69      0.44      1073\n",
      "           4       0.61      0.42      0.50      5078\n",
      "\n",
      "    accuracy                           0.47     12348\n",
      "   macro avg       0.45      0.53      0.47     12348\n",
      "weighted avg       0.51      0.47      0.48     12348\n",
      "\n"
     ]
    }
   ],
   "source": [
    "from sklearn.naive_bayes import MultinomialNB\n",
    "\n",
    "naiveByes_clf = MultinomialNB()\n",
    "\n",
    "naiveByes_clf.fit(x_train,y_train)\n",
    "\n",
    "NB_prediction = naiveByes_clf.predict(x_test)\n",
    "NB_accuracy = accuracy_score(y_test,NB_prediction)\n",
    "print(\"training accuracy Score    : \",naiveByes_clf.score(x_train,y_train))\n",
    "print(\"Validation accuracy Score : \",NB_accuracy )\n",
    "print(classification_report(NB_prediction,y_test))"
   ]
  },
  {
   "cell_type": "code",
   "execution_count": 70,
   "id": "decent-device",
   "metadata": {
    "id": "bCrqjdlGDeXc"
   },
   "outputs": [],
   "source": [
    "accuracy.append(NB_accuracy)\n",
    "x.append(\"Naive Bayes\")"
   ]
  },
  {
   "cell_type": "code",
   "execution_count": 44,
   "id": "whole-drive",
   "metadata": {
    "colab": {
     "base_uri": "https://localhost:8080/"
    },
    "id": "least-matter",
    "outputId": "1be69f24-b0ab-44b7-8557-bc30ee60d448"
   },
   "outputs": [
    {
     "name": "stdout",
     "output_type": "stream",
     "text": [
      "Training accuracy Score    :  0.4965809295706203\n",
      "Validation accuracy Score :  0.46849692257855524\n",
      "              precision    recall  f1-score   support\n",
      "\n",
      "           0       0.35      0.58      0.43       967\n",
      "           1       0.39      0.68      0.49      1121\n",
      "           2       0.38      0.43      0.41      2634\n",
      "           3       0.62      0.43      0.51      3323\n",
      "           4       0.54      0.44      0.48      4303\n",
      "\n",
      "    accuracy                           0.47     12348\n",
      "   macro avg       0.46      0.51      0.47     12348\n",
      "weighted avg       0.50      0.47      0.47     12348\n",
      "\n"
     ]
    }
   ],
   "source": [
    "import xgboost as xgb\n",
    "\n",
    "xgboost_clf = xgb.XGBClassifier()\n",
    "\n",
    "xgboost_clf.fit(x_train, y_train)\n",
    "\n",
    "xgb_prediction = xgboost_clf.predict(x_test)\n",
    "xgb_accuracy = accuracy_score(y_test,xgb_prediction)\n",
    "print(\"Training accuracy Score    : \",xgboost_clf.score(x_train,y_train))\n",
    "print(\"Validation accuracy Score : \",xgb_accuracy )\n",
    "print(classification_report(xgb_prediction,y_test))"
   ]
  },
  {
   "cell_type": "code",
   "execution_count": 71,
   "id": "functioning-chapel",
   "metadata": {
    "id": "fFqxuRSgDmZJ"
   },
   "outputs": [],
   "source": [
    "accuracy.append(xgb_accuracy)\n",
    "x.append(\"Xg Boost\")"
   ]
  },
  {
   "cell_type": "code",
   "execution_count": 45,
   "id": "smooth-absolute",
   "metadata": {
    "colab": {
     "base_uri": "https://localhost:8080/"
    },
    "id": "distinguished-pantyhose",
    "outputId": "b52f9039-4bb3-4c88-9744-5b8323cf88b4"
   },
   "outputs": [
    {
     "name": "stdout",
     "output_type": "stream",
     "text": [
      "Training accuracy Score    :  0.915963761324586\n",
      "Validation accuracy Score :  0.6054421768707483\n",
      "              precision    recall  f1-score   support\n",
      "\n",
      "           0       0.44      0.70      0.54      1032\n",
      "           1       0.53      0.78      0.63      1340\n",
      "           2       0.54      0.53      0.54      3051\n",
      "           3       0.75      0.65      0.70      2627\n",
      "           4       0.69      0.55      0.61      4298\n",
      "\n",
      "    accuracy                           0.61     12348\n",
      "   macro avg       0.59      0.64      0.60     12348\n",
      "weighted avg       0.63      0.61      0.61     12348\n",
      "\n"
     ]
    }
   ],
   "source": [
    "from sklearn.svm import SVC\n",
    "\n",
    "svc = SVC()\n",
    "\n",
    "svc.fit(x_train, y_train)\n",
    "\n",
    "svc_prediction = svc.predict(x_test)\n",
    "svc_accuracy = accuracy_score(y_test,svc_prediction)\n",
    "print(\"Training accuracy Score    : \",svc.score(x_train,y_train))\n",
    "print(\"Validation accuracy Score : \",svc_accuracy )\n",
    "print(classification_report(svc_prediction,y_test))"
   ]
  },
  {
   "cell_type": "code",
   "execution_count": 72,
   "id": "alleged-divorce",
   "metadata": {
    "id": "Noh0D1viDxLr"
   },
   "outputs": [],
   "source": [
    "accuracy.append(svc_accuracy)\n",
    "x.append(\"SVM\")"
   ]
  },
  {
   "cell_type": "code",
   "execution_count": 46,
   "id": "expanded-pencil",
   "metadata": {
    "colab": {
     "base_uri": "https://localhost:8080/"
    },
    "id": "adjusted-display",
    "outputId": "6535bb93-f99b-4d3b-8540-bb8138f5d59b"
   },
   "outputs": [
    {
     "name": "stdout",
     "output_type": "stream",
     "text": [
      "Training accuracy Score    :  0.9478982262487418\n",
      "Validation accuracy Score :  0.6246355685131195\n",
      "              precision    recall  f1-score   support\n",
      "\n",
      "           0       0.56      0.66      0.61      1364\n",
      "           1       0.64      0.72      0.68      1767\n",
      "           2       0.56      0.56      0.56      2966\n",
      "           3       0.77      0.65      0.70      2729\n",
      "           4       0.61      0.60      0.60      3522\n",
      "\n",
      "    accuracy                           0.62     12348\n",
      "   macro avg       0.63      0.64      0.63     12348\n",
      "weighted avg       0.63      0.62      0.63     12348\n",
      "\n"
     ]
    },
    {
     "name": "stderr",
     "output_type": "stream",
     "text": [
      "/usr/local/lib/python3.7/dist-packages/sklearn/linear_model/_logistic.py:940: ConvergenceWarning: lbfgs failed to converge (status=1):\n",
      "STOP: TOTAL NO. of ITERATIONS REACHED LIMIT.\n",
      "\n",
      "Increase the number of iterations (max_iter) or scale the data as shown in:\n",
      "    https://scikit-learn.org/stable/modules/preprocessing.html\n",
      "Please also refer to the documentation for alternative solver options:\n",
      "    https://scikit-learn.org/stable/modules/linear_model.html#logistic-regression\n",
      "  extra_warning_msg=_LOGISTIC_SOLVER_CONVERGENCE_MSG)\n"
     ]
    }
   ],
   "source": [
    "from sklearn.linear_model import LogisticRegression\n",
    "logreg = LogisticRegression()\n",
    "\n",
    "logreg.fit(x_train, y_train)\n",
    "\n",
    "logreg_prediction = logreg.predict(x_test)\n",
    "logreg_accuracy = accuracy_score(y_test,logreg_prediction)\n",
    "print(\"Training accuracy Score    : \",logreg.score(x_train,y_train))\n",
    "print(\"Validation accuracy Score : \",logreg_accuracy )\n",
    "print(classification_report(logreg_prediction,y_test))"
   ]
  },
  {
   "cell_type": "code",
   "execution_count": 73,
   "id": "contained-relief",
   "metadata": {
    "id": "structural-kenya"
   },
   "outputs": [],
   "source": [
    "accuracy.append(logreg_accuracy)\n",
    "x.append(\"Regression\")"
   ]
  },
  {
   "cell_type": "code",
   "execution_count": 83,
   "id": "sorted-qatar",
   "metadata": {
    "colab": {
     "base_uri": "https://localhost:8080/",
     "height": 565
    },
    "id": "monthly-crime",
    "outputId": "323075b1-da07-47fe-cf20-7d2bf3090106"
   },
   "outputs": [
    {
     "data": {
      "image/png": "[encoded data removed]",
      "text/plain": [
       "<Figure size 1120x640 with 1 Axes>"
      ]
     },
     "metadata": {
      "needs_background": "light",
      "tags": []
     },
     "output_type": "display_data"
    }
   ],
   "source": [
    "from matplotlib.pyplot import figure\n",
    "\n",
    "figure(figsize=(14, 8), dpi=80)\n",
    "\n",
    "x_pos = [i for i, _ in enumerate(x)]\n",
    "\n",
    "plt.bar(x_pos, accuracy, color='green')\n",
    "plt.xlabel(\"Models\")\n",
    "plt.ylabel(\"Accuracy\")\n",
    "plt.title(\"Accuracy from various models\")\n",
    "\n",
    "plt.xticks(x_pos, x)\n",
    "plt.show()"
   ]
  },
  {
   "cell_type": "code",
   "execution_count": 84,
   "id": "isolated-transportation",
   "metadata": {
    "id": "eOXXL0JJEBlp"
   },
   "outputs": [],
   "source": [
    "# From the above graph it is clearly evident that our GRU model is best \n",
    "\n",
    "# We will use this model for our test set \n",
    "\n",
    "model.save(\"GRU_model.h5\")\n"
   ]
  },
  {
   "cell_type": "code",
   "execution_count": 85,
   "id": "fluid-equipment",
   "metadata": {
    "colab": {
     "base_uri": "https://localhost:8080/"
    },
    "id": "m1nePVFEGdJI",
    "outputId": "8c8116fd-f730-4a98-efb0-807bcd6ac846"
   },
   "outputs": [
    {
     "data": {
      "text/plain": [
       "(3798, 280)"
      ]
     },
     "execution_count": 85,
     "metadata": {
      "tags": []
     },
     "output_type": "execute_result"
    }
   ],
   "source": [
    "tokenizer = Tokenizer()\n",
    "test = test_data['OriginalTweet']\n",
    "tokenizer.fit_on_texts(test)\n",
    "test = tokenizer.texts_to_sequences(test)\n",
    "test = pad_sequences(test, maxlen=max_len, padding='post')\n",
    "test.shape"
   ]
  },
  {
   "cell_type": "markdown",
   "id": "different-wagner",
   "metadata": {
    "id": "wHg4otHvLlY1"
   },
   "source": [
    "Predicting the output for the test data"
   ]
  },
  {
   "cell_type": "code",
   "execution_count": 97,
   "id": "celtic-history",
   "metadata": {
    "colab": {
     "base_uri": "https://localhost:8080/"
    },
    "id": "gi8hJvJyJSFm",
    "outputId": "5ae172e5-9ae1-470b-d4e6-40482f5c4601"
   },
   "outputs": [
    {
     "name": "stderr",
     "output_type": "stream",
     "text": [
      "/usr/local/lib/python3.7/dist-packages/tensorflow/python/keras/engine/sequential.py:450: UserWarning: `model.predict_classes()` is deprecated and will be removed after 2021-01-01. Please use instead:* `np.argmax(model.predict(x), axis=-1)`,   if your model does multi-class classification   (e.g. if it uses a `softmax` last-layer activation).* `(model.predict(x) > 0.5).astype(\"int32\")`,   if your model does binary classification   (e.g. if it uses a `sigmoid` last-layer activation).\n",
      "  warnings.warn('`model.predict_classes()` is deprecated and '\n"
     ]
    },
    {
     "name": "stdout",
     "output_type": "stream",
     "text": [
      "[4 1 2 ... 4 4 2]\n",
      "Positive 1154\n",
      "Negative 1062\n",
      "Neutral 643\n",
      "Extremely Positive 568\n",
      "Extremely Negative 371\n"
     ]
    }
   ],
   "source": [
    "output = model.predict_classes(test)\n",
    "print(output)\n",
    "freq = {0:0,1:0,2:0,3:0,4:0}\n",
    "for i in output:\n",
    "  freq[i]+=1\n",
    "for key in output_dict.keys():\n",
    "  print(output_dict[key],freq[key])"
   ]
  },
  {
   "cell_type": "code",
   "execution_count": 101,
   "id": "uniform-anniversary",
   "metadata": {
    "colab": {
     "base_uri": "https://localhost:8080/"
    },
    "id": "NPbuD4x8LrhE",
    "outputId": "b4ea8fc5-eeae-4fe5-e34c-0de5194ca4f1"
   },
   "outputs": [
    {
     "name": "stdout",
     "output_type": "stream",
     "text": [
      "[1, 'Positive']\n",
      "[2, 'Extremely Positive']\n",
      "[3, 'Negative']\n",
      "[4, 'Negative']\n",
      "[5, 'Extremely Positive']\n",
      "[6, 'Extremely Positive']\n",
      "[7, 'Negative']\n",
      "[8, 'Positive']\n",
      "[9, 'Extremely Positive']\n",
      "[10, 'Extremely Positive']\n",
      "[11, 'Negative']\n",
      "[12, 'Positive']\n",
      "[13, 'Positive']\n",
      "[14, 'Positive']\n",
      "[15, 'Extremely Negative']\n",
      "[16, 'Negative']\n",
      "[17, 'Positive']\n",
      "[18, 'Positive']\n",
      "[19, 'Negative']\n",
      "[20, 'Extremely Positive']\n",
      "[21, 'Neutral']\n",
      "[22, 'Negative']\n",
      "[23, 'Extremely Positive']\n",
      "[24, 'Extremely Positive']\n",
      "[25, 'Extremely Negative']\n",
      "3798\n"
     ]
    }
   ],
   "source": [
    "rows=[]\n",
    "k=0\n",
    "for i in test_data['UserName']:\n",
    "  temp=[]\n",
    "  temp.append(i)\n",
    "  temp.append(output_dict[output[k]])\n",
    "  k+=1\n",
    "  rows.append(temp)\n",
    "\n",
    "for i in range(25):\n",
    "  print(rows[i])\n",
    "print(len(rows))"
   ]
  },
  {
   "cell_type": "markdown",
   "id": "located-trademark",
   "metadata": {
    "id": "JFzsRkFLH7eO"
   },
   "source": [
    "Writing the output into CSV"
   ]
  },
  {
   "cell_type": "code",
   "execution_count": 103,
   "id": "physical-snake",
   "metadata": {
    "id": "J6AmVHq5Hv4Z"
   },
   "outputs": [],
   "source": [
    "import csv\n",
    "fields = ['UserName','Sentiment']\n",
    "filename = \"Sreedhar_V_Tweet_Sentiment_output.csv\"\n",
    "\n",
    "with open(filename, 'w') as csvfile: \n",
    "    csvwriter = csv.writer(csvfile) \n",
    "    csvwriter.writerow(fields)   \n",
    "    csvwriter.writerows(rows)"
   ]
  },
  {
   "cell_type": "code",
   "execution_count": null,
   "id": "foster-chassis",
   "metadata": {
    "id": "pD1F6958PU14"
   },
   "outputs": [],
   "source": []
  }
 ],
 "metadata": {
  "accelerator": "GPU",
  "colab": {
   "name": "NLP.ipynb",
   "provenance": []
  },
  "kernelspec": {
   "display_name": "Python 3",
   "language": "python",
   "name": "python3"
  },
  "language_info": {
   "codemirror_mode": {
    "name": "ipython",
    "version": 3
   },
   "file_extension": ".py",
   "mimetype": "text/x-python",
   "name": "python",
   "nbconvert_exporter": "python",
   "pygments_lexer": "ipython3",
   "version": "3.8.5"
  }
 },
 "nbformat": 4,
 "nbformat_minor": 5
}
